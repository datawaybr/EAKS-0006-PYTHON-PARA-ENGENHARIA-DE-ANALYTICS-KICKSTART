{
 "cells": [
  {
   "cell_type": "markdown",
   "metadata": {},
   "source": [
    "# Interagindo com API via Python\n",
    "\n",
    "## O que é uma API (_Application Programming Interface_) ? \n",
    "\n",
    "**Definição :** Conjunto de rotinas e padorões de programação que permitem a \n",
    "cominicação de dois componentes de software. \n",
    "\n",
    "Neste treinamento estaremos vendo um pequeno grupo de API que são chamadas de WebAPIs. \n",
    "As WebAPIs são interfaces de processamento entre um servidor da Web e um navegador. Estas \n",
    "APIs  utilizam o protocolo *HTTP* para fazer a cominução entre aplicativos. "
   ]
  },
  {
   "cell_type": "code",
   "execution_count": null,
   "metadata": {},
   "outputs": [],
   "source": [
    "asda\n"
   ]
  }
 ],
 "metadata": {
  "language_info": {
   "name": "python"
  },
  "orig_nbformat": 4
 },
 "nbformat": 4,
 "nbformat_minor": 2
}
